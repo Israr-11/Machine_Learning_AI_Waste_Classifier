{
 "cells": [
  {
   "cell_type": "markdown",
   "metadata": {
    "id": "zsVh5geCAfCE"
   },
   "source": [
    "## Step 1: Importing the necessary libaries"
   ]
  },
  {
   "cell_type": "code",
   "execution_count": null,
   "metadata": {
    "id": "jYIM1lBooqLT"
   },
   "outputs": [],
   "source": [
    "import os\n",
    "import tensorflow as tf\n",
    "from google.colab import files\n",
    "from tensorflow.keras.utils import image_dataset_from_directory\n",
    "import matplotlib.pyplot as plt\n",
    "\n",
    "Files_save_path = '/content/drive/MyDrive/<path>'\n",
    "os.makedirs(Files_save_path, exist_ok=True)"
   ]
  },
  {
   "cell_type": "markdown",
   "metadata": {
    "id": "fIt1oXAJkk9K"
   },
   "source": [
    "## Step 2: Load the Dataset into TensorFlow\n"
   ]
  },
  {
   "cell_type": "code",
   "execution_count": null,
   "metadata": {
    "colab": {
     "base_uri": "https://localhost:8080/"
    },
    "executionInfo": {
     "elapsed": 30168,
     "status": "ok",
     "timestamp": 1747390539709,
     "user": {
      "displayName": "Israr",
      "userId": "04789259546664681661"
     },
     "user_tz": -60
    },
    "id": "Ea93ZYMck82s",
    "outputId": "0606723f-836b-4fb2-9ac3-2193ab9864c0"
   },
   "outputs": [],
   "source": [
    "# PATH TO THE DATASET\n",
    "dataset_path = '/content/drive/MyDrive/<path>'\n",
    "\n",
    "# TRAINING DATASET V2 (80% OF DATA)\n",
    "train_ds = image_dataset_from_directory(\n",
    "    dataset_path,\n",
    "    validation_split=0.2,\n",
    "    subset=\"training\",\n",
    "    seed=123,\n",
    "    image_size=(128, 128),\n",
    "    batch_size=32\n",
    ")\n",
    "\n",
    "# VALIDATION DATASET V2 (20% OF DATA)\n",
    "val_ds = image_dataset_from_directory(\n",
    "    dataset_path,\n",
    "    validation_split=0.2,\n",
    "    subset=\"validation\",\n",
    "    seed=123,\n",
    "    image_size=(128, 128),\n",
    "    batch_size=34\n",
    ")\n",
    "\n",
    "# CLASS NAMES\n",
    "class_names = train_ds.class_names\n",
    "print(f\"Class Names: {class_names}\")"
   ]
  },
  {
   "cell_type": "markdown",
   "metadata": {
    "id": "Q64hrhzK4Re2"
   },
   "source": [
    "## Step 3: Visualizing the images\n",
    "\n"
   ]
  },
  {
   "cell_type": "code",
   "execution_count": null,
   "metadata": {
    "colab": {
     "base_uri": "https://localhost:8080/"
    },
    "executionInfo": {
     "elapsed": 8435,
     "status": "ok",
     "timestamp": 1747390548145,
     "user": {
      "displayName": "Israr",
      "userId": "04789259546664681661"
     },
     "user_tz": -60
    },
    "id": "XnNuvg7S4hSt",
    "outputId": "0378a6aa-a5e1-4993-bd46-04713e85fb18"
   },
   "outputs": [],
   "source": [
    "plt.figure(figsize=(10, 10))\n",
    "for images, labels in train_ds.take(1):  # IT WILL TAKE ONE BATCH\n",
    "    for i in range(9):  # SHOW 9 IMAGES\n",
    "        plt.subplot(3, 3, i + 1)\n",
    "        plt.imshow(images[i].numpy().astype(\"uint8\"))  # CONVERT TO PROPER FORMAT\n",
    "        plt.title(class_names[labels[i]])  # ADD LABEL\n",
    "        plt.axis(\"off\")\n",
    "    break\n",
    "plt.show()"
   ]
  },
  {
   "cell_type": "markdown",
   "metadata": {
    "id": "15ElJRTf8zv3"
   },
   "source": [
    "## Step 4: Normalize the data\n"
   ]
  },
  {
   "cell_type": "code",
   "execution_count": null,
   "metadata": {
    "id": "u1vp1vwU8_W0"
   },
   "outputs": [],
   "source": [
    "# NORMALIZE PIXEL VALUES (DIVIDE BY 255)\n",
    "train_ds = train_ds.map(lambda x, y: (x / 255.0, y)) # X REPRESENTS IMAGE DATA, AND Y REPRESENTS LABELS\n",
    "val_ds = val_ds.map(lambda x, y: (x / 255.0, y))"
   ]
  },
  {
   "cell_type": "markdown",
   "metadata": {
    "id": "4Z9yEZ56GxSM"
   },
   "source": [
    "## Step 5: Build a CNN Model"
   ]
  },
  {
   "cell_type": "code",
   "execution_count": null,
   "metadata": {
    "colab": {
     "base_uri": "https://localhost:8080/",
     "height": 472
    },
    "executionInfo": {
     "elapsed": 145,
     "status": "ok",
     "timestamp": 1747390548315,
     "user": {
      "displayName": "Israr",
      "userId": "04789259546664681661"
     },
     "user_tz": -60
    },
    "id": "lOlOcd5HG4Dx",
    "outputId": "82566830-8f14-455a-ba3e-dacfb883e098"
   },
   "outputs": [],
   "source": [
    "#BUILD THE MODEL\n",
    "model = tf.keras.Sequential([\n",
    "    # CONVOLUTION LAYER\n",
    "    tf.keras.layers.Conv2D(32, (3, 3), activation='relu', input_shape=(128, 128, 3)),\n",
    "    # POOLING LAYER\n",
    "    tf.keras.layers.MaxPooling2D(2, 2),\n",
    "\n",
    "    tf.keras.layers.Conv2D(64, (3, 3), activation='relu'),\n",
    "    tf.keras.layers.MaxPooling2D(2, 2),\n",
    "\n",
    "    tf.keras.layers.Conv2D(128, (3, 3), activation='relu'),\n",
    "    tf.keras.layers.MaxPooling2D(2, 2),\n",
    "\n",
    "    # CONVERT FEATURE MAPS TO 1D\n",
    "    tf.keras.layers.Flatten(),\n",
    "    # FULLY CONNECTED LAYER\n",
    "    tf.keras.layers.Dense(128, activation='relu'),\n",
    "    # OUTPUT LAYER (SOFTMAX FOR MULTI-CLASS)\n",
    "    tf.keras.layers.Dense(len(class_names), activation='softmax')\n",
    "])\n",
    "\n",
    "#COMPILE THE MODEL\n",
    "model.compile(optimizer='adam',\n",
    "              loss='sparse_categorical_crossentropy',\n",
    "              metrics=['accuracy'])\n",
    "\n",
    "#DISPLAY THE MODEL SUMMARY\n",
    "model.summary()"
   ]
  },
  {
   "cell_type": "markdown",
   "metadata": {
    "id": "eUlYEZc1R1sQ"
   },
   "source": [
    "## Step 6: Train the model"
   ]
  },
  {
   "cell_type": "code",
   "execution_count": null,
   "metadata": {
    "colab": {
     "base_uri": "https://localhost:8080/",
     "height": 538
    },
    "executionInfo": {
     "elapsed": 4124356,
     "status": "ok",
     "timestamp": 1747394672674,
     "user": {
      "displayName": "Israr",
      "userId": "04789259546664681661"
     },
     "user_tz": -60
    },
    "id": "wiPblQThR-co",
    "outputId": "463116f8-7b35-47f6-8e43-b1dd40f5759d"
   },
   "outputs": [],
   "source": [
    "history = model.fit(\n",
    "    train_ds,\n",
    "    validation_data=val_ds,\n",
    "    epochs=15\n",
    ")\n",
    "\n",
    "model.save('/content/drive/MyDrive/<path>')\n",
    "files.download('/content/drive/MyDrive/<path>')"
   ]
  },
  {
   "cell_type": "markdown",
   "metadata": {
    "id": "JBSsW8BEV7F0"
   },
   "source": [
    "## Step 7: Plot Training Results"
   ]
  },
  {
   "cell_type": "code",
   "execution_count": null,
   "metadata": {
    "id": "P9OQvk4rWEcp"
   },
   "outputs": [],
   "source": [
    "import os\n",
    "import matplotlib.pyplot as plt\n",
    "\n",
    "fig_acc = plt.figure()\n",
    "plt.plot(history.history['accuracy'], label='Train Accuracy')\n",
    "plt.plot(history.history['val_accuracy'], label='Val Accuracy')\n",
    "plt.title(\"Accuracy over Epochs\")\n",
    "plt.xlabel(\"Epochs\")\n",
    "plt.ylabel(\"Accuracy\")\n",
    "plt.legend()\n",
    "fig_acc.savefig(os.path.join(Files_save_path, 'Accuracy_vs_Epochs.png'), dpi=300)\n",
    "fig_acc.savefig(os.path.join(Files_save_path, 'Accuracy_vs_Epochs.pdf'), dpi=300)\n",
    "plt.close(fig_acc)  # CLOSE TO AVOID OVERLAP IN NEXT PLOT\n",
    "\n",
    "# --- LOSS PLOT ---\n",
    "fig_loss = plt.figure()\n",
    "plt.plot(history.history['loss'], label='Train Loss')\n",
    "plt.plot(history.history['val_loss'], label='Val Loss')\n",
    "plt.title(\"Loss over Epochs\")\n",
    "plt.xlabel(\"Epochs\")\n",
    "plt.ylabel(\"Loss\")\n",
    "plt.legend()\n",
    "fig_loss.savefig(os.path.join(Files_save_path, 'Loss_vs_Epochs.png'), dpi=300)\n",
    "fig_loss.savefig(os.path.join(Files_save_path, 'Loss_vs_Epochs.pdf'), dpi=300)\n",
    "plt.close(fig_loss)"
   ]
  },
  {
   "cell_type": "markdown",
   "metadata": {
    "id": "fgSjCKS2h73y"
   },
   "source": [
    "## Step 8: Confusion Matrix & Heatmap\n"
   ]
  },
  {
   "cell_type": "code",
   "execution_count": null,
   "metadata": {
    "colab": {
     "base_uri": "https://localhost:8080/",
     "height": 1000
    },
    "executionInfo": {
     "elapsed": 18943,
     "status": "ok",
     "timestamp": 1747395022502,
     "user": {
      "displayName": "Israr",
      "userId": "04789259546664681661"
     },
     "user_tz": -60
    },
    "id": "5F_1yz5niHMo",
    "outputId": "529b735e-1b61-4c82-94a5-38d97201567d"
   },
   "outputs": [],
   "source": [
    "from sklearn.metrics import confusion_matrix, classification_report\n",
    "import seaborn as sns\n",
    "import numpy as np\n",
    "import matplotlib.pyplot as plt\n",
    "\n",
    "# GENERATING TRUE AND PREDICTED LABELS\n",
    "y_true = []\n",
    "y_pred = []\n",
    "\n",
    "for images, labels in val_ds:\n",
    "    preds = model.predict(images)\n",
    "    y_true.extend(labels.numpy())\n",
    "    y_pred.extend(np.argmax(preds, axis=1))\n",
    "\n",
    "# CREATING CONFUSION MATRIX\n",
    "cm = confusion_matrix(y_true, y_pred)\n",
    "fig = plt.figure(figsize=(10, 8))\n",
    "sns.heatmap(cm, annot=True, fmt='d', cmap='Blues',\n",
    "            xticklabels=class_names,\n",
    "            yticklabels=class_names)\n",
    "plt.xlabel('Predicted')\n",
    "plt.ylabel('True')\n",
    "plt.title('Confusion Matrix')\n",
    "\n",
    "# SAVING BEFORE PLT.SHOW()\n",
    "fig.savefig(os.path.join(Files_save_path, 'confusion_matrix.png'), dpi=300)\n",
    "fig.savefig(os.path.join(Files_save_path, 'confusion_matrix.pdf'), dpi=300)\n",
    "\n",
    "plt.show()"
   ]
  },
  {
   "cell_type": "markdown",
   "metadata": {
    "id": "FAPlIWzgiJ4g"
   },
   "source": [
    "## Step 9: Classification Report as Bar Plots"
   ]
  },
  {
   "cell_type": "code",
   "execution_count": null,
   "metadata": {
    "colab": {
     "base_uri": "https://localhost:8080/",
     "height": 607
    },
    "executionInfo": {
     "elapsed": 836,
     "status": "ok",
     "timestamp": 1747395153377,
     "user": {
      "displayName": "Israr",
      "userId": "04789259546664681661"
     },
     "user_tz": -60
    },
    "id": "ZLqFgXSciPlY",
    "outputId": "5dae55da-e295-49ca-cc1e-861b00e2449a"
   },
   "outputs": [],
   "source": [
    "from sklearn.metrics import precision_recall_fscore_support\n",
    "\n",
    "# GET PRECISION, RECALL, F1, AND SUPPORT\n",
    "precision, recall, f1, _ = precision_recall_fscore_support(\n",
    "    y_true, y_pred, labels=range(len(class_names)))\n",
    "\n",
    "x = np.arange(len(class_names))\n",
    "width = 0.25\n",
    "\n",
    "fig = plt.figure(figsize=(12, 6))\n",
    "plt.bar(x - width, precision, width, label='Precision')\n",
    "plt.bar(x, recall, width, label='Recall')\n",
    "plt.bar(x + width, f1, width, label='F1-score')\n",
    "\n",
    "plt.ylabel('Score')\n",
    "plt.title('Classification Report Metrics')\n",
    "plt.xticks(x, class_names, rotation=45)\n",
    "plt.ylim([0, 1.1])\n",
    "plt.legend()\n",
    "plt.grid(True, axis='y', linestyle='--', alpha=0.7)\n",
    "plt.tight_layout()\n",
    "\n",
    "# ✅ SAVE THE FIGURE BEFORE PLT.SHOW()\n",
    "fig.savefig(os.path.join(Files_save_path, 'classification_report.png'), dpi=300)\n",
    "fig.savefig(os.path.join(Files_save_path, 'classification_report.pdf'), dpi=300)\n",
    "\n",
    "plt.show()"
   ]
  },
  {
   "cell_type": "markdown",
   "metadata": {
    "id": "4Ug5SUhNWTFE"
   },
   "source": [
    "## Step 10: Test the Model\n"
   ]
  },
  {
   "cell_type": "code",
   "execution_count": null,
   "metadata": {
    "id": "oFNQ2T86WYE8"
   },
   "outputs": [],
   "source": [
    "from tensorflow.keras.preprocessing import image\n",
    "import numpy as np\n",
    "\n",
    "# LOAD AN IMAGE\n",
    "img_path = '/content/drive/MyDrive/Colab Notebooks/Research_Project/datasets/waste_dataset_v2/glass/glass5.jpg'\n",
    "img = image.load_img(img_path, target_size=(128, 128))\n",
    "\n",
    "# CONVERT IMAGE TO ARRAY AND NORMALIZE\n",
    "img_array = np.expand_dims(np.array(img) / 255.0, axis=0)\n",
    "\n",
    "# PREDICT THE CLASS\n",
    "prediction = model.predict(img_array)\n",
    "predicted_class = class_names[np.argmax(prediction)]\n",
    "\n",
    "print(f\"Predicted Class: {predicted_class}\")"
   ]
  }
 ],
 "metadata": {
  "accelerator": "GPU",
  "colab": {
   "authorship_tag": "ABX9TyMV/5qHu3AdG77BRmnPrYuc",
   "gpuType": "T4",
   "mount_file_id": "1_enlKWYamGdnkHG5EtgGLdm2HSGXChMp",
   "provenance": []
  },
  "kernelspec": {
   "display_name": "Python 3",
   "name": "python3"
  },
  "language_info": {
   "name": "python"
  }
 },
 "nbformat": 4,
 "nbformat_minor": 0
}
